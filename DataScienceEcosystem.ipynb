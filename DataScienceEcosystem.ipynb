{
 "cells": [
  {
   "cell_type": "markdown",
   "id": "e19f3e04-cfde-4f43-895b-ef81cf2565a7",
   "metadata": {},
   "source": [
    "# Data Science Tools and Ecosystem"
   ]
  },
  {
   "cell_type": "markdown",
   "id": "2e4539dc-cbf8-413a-88a0-92b00821cb5a",
   "metadata": {
    "jp-MarkdownHeadingCollapsed": true
   },
   "source": [
    " In this notebook, Data Science Tools and Ecosystem are summarized"
   ]
  },
  {
   "cell_type": "markdown",
   "id": "7e5f25ad-3f0f-41a5-a91f-6520ac5cec97",
   "metadata": {},
   "source": [
    "**Objectives:**\n",
    "+ List popular languages for Data Science\n",
    "+ List commonly used libraries for Data Science\n",
    "+ Data Science Tools\n",
    "+ Examples of arithmetic expressions in python"
   ]
  },
  {
   "attachments": {},
   "cell_type": "markdown",
   "id": "a0bb0faa-5344-45a2-9ed4-ecf47acd2bf5",
   "metadata": {},
   "source": [
    " Some of the popular languages that Data Scientists use are:\n",
    "\n",
    " <ol><li>Python</li><li>R</li><li>SQL</li></ol>"
   ]
  },
  {
   "cell_type": "markdown",
   "id": "de354d44-f5af-402c-951f-f87ccb807716",
   "metadata": {},
   "source": [
    " Some of the commonly used libraries  used by Data Scientists include:\n",
    " <ol><li>NumPy</li><li>Pandas</li><li>Matplotlib</li></ol>"
   ]
  },
  {
   "cell_type": "markdown",
   "id": "a7fec0cb-78a7-472a-8006-1b65c2a3a0d7",
   "metadata": {},
   "source": [
    "| Data Science Tools |\n",
    "| ------------------ |\n",
    "| Jupyter Notebook |\n",
    "| Rstudio |\n",
    "| Google Colab |\n"
   ]
  },
  {
   "cell_type": "markdown",
   "id": "6d0e2698-3dcf-4695-b2d7-b628e909f30a",
   "metadata": {},
   "source": [
    "### Below are a few examples of evaluating arithmetic expressions in Python"
   ]
  },
  {
   "cell_type": "code",
   "execution_count": 3,
   "id": "d92fc3a5-5e6d-48b8-bcbf-8ae245d10369",
   "metadata": {},
   "outputs": [
    {
     "data": {
      "text/plain": [
       "17"
      ]
     },
     "execution_count": 3,
     "metadata": {},
     "output_type": "execute_result"
    }
   ],
   "source": [
    "# This a simple arithmetic expression to multiply then add integers\n",
    "(3*4)+5\n",
    " "
   ]
  },
  {
   "cell_type": "code",
   "execution_count": 4,
   "id": "ed6a90b9-81fa-4e18-b736-df309be7fa8f",
   "metadata": {},
   "outputs": [
    {
     "data": {
      "text/plain": [
       "3.3333333333333335"
      ]
     },
     "execution_count": 4,
     "metadata": {},
     "output_type": "execute_result"
    }
   ],
   "source": [
    "# This will convert 200 minutes to hours by diving by 60\n",
    "\n",
    "200/60"
   ]
  },
  {
   "cell_type": "markdown",
   "id": "b01a2a90-4d15-4129-a31d-d2ef9790cb3b",
   "metadata": {},
   "source": [
    "## Author\n",
    "Sanika C S"
   ]
  },
  {
   "cell_type": "code",
   "execution_count": null,
   "id": "33690615-f990-46a2-89ef-0bd2a650303b",
   "metadata": {},
   "outputs": [],
   "source": []
  }
 ],
 "metadata": {
  "kernelspec": {
   "display_name": "Python 3 (ipykernel)",
   "language": "python",
   "name": "python3"
  },
  "language_info": {
   "codemirror_mode": {
    "name": "ipython",
    "version": 3
   },
   "file_extension": ".py",
   "mimetype": "text/x-python",
   "name": "python",
   "nbconvert_exporter": "python",
   "pygments_lexer": "ipython3",
   "version": "3.11.9"
  }
 },
 "nbformat": 4,
 "nbformat_minor": 5
}
